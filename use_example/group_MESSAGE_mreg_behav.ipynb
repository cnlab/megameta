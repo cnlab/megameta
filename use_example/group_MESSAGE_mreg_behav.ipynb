{
 "cells": [
  {
   "cell_type": "markdown",
   "metadata": {},
   "source": [
    "# Building second level models using _nipype_ and _SPM12_\n",
    "\n",
    "## Template for _megameta_ project\n",
    "\n",
    "-------\n",
    "#### History\n",
    "\n",
    "* 07/06/20 nc - adding tasks\n",
    "* 12/19 jahn - tailored for individual bhv change analysis\n",
    "* 11/6/19 mbod, jeesung, ncooper - testing pipeline code with new individual diff measure to replicate MM report models\n",
    "* 5/29/19 cscholz - use subject level mreg split up into aversive/nonaversive image projects\n",
    "* 5/8/19 mbod & bdore - use subject level mreg\n",
    "* 3/18/19 mbod  - modify example notebook to make template\n",
    "\n",
    "-----\n",
    "\n",
    "### Description\n",
    "\n",
    "* Set up a nipype workflow to use SPM12 to make second (group) level models for _megameta_ task data (preprocessed using `batch8` SPM8 scripts) in BIDS derivative format\n",
    "* Includes both single sample t-test and multiple regression designs\n"
   ]
  },
  {
   "cell_type": "code",
   "execution_count": 1,
   "metadata": {},
   "outputs": [],
   "source": [
    "%matplotlib inline\n",
    "import os\n",
    "import json\n",
    "import nibabel as nb"
   ]
  },
  {
   "cell_type": "markdown",
   "metadata": {},
   "source": [
    "-------------------\n",
    "\n",
    "### Step 1: SET NEEDED PARAMETERS\n",
    "\n",
    "* Specify the following values:\n",
    "    1. project name - should be name of folder under `/data00/project/megameta`, e.g. `project1`\n",
    "    2. filename for JSON model specification (should be inside `model_specification` folder), e.g. `p1_image_pmod_likeme.json`\n",
    "    3. TR value in seconds\n",
    " \n",
    "\n"
   ]
  },
  {
   "cell_type": "code",
   "execution_count": 2,
   "metadata": {},
   "outputs": [],
   "source": [
    "MODEL_SPEC_FILE = 'group_MESSAGE_mreg_behav_7studies.json'\n",
    "contrast_name='puremessage'"
   ]
  },
  {
   "cell_type": "code",
   "execution_count": 3,
   "metadata": {},
   "outputs": [],
   "source": [
    "PATH_TO_SPM_FOLDER = '/data00/tools/spm12mega/'"
   ]
  },
  {
   "cell_type": "code",
   "execution_count": 4,
   "metadata": {},
   "outputs": [],
   "source": [
    "ROOT_DIR = '/data00/projects/megameta'\n",
    "GROUP_DIR = '/data00/projects/megameta/group_models/'\n",
    "\n",
    "fwhm = [ 8 ] # smoothing kernels\n",
    "resolutions = ['medium']\n",
    "\n",
    "cont1 = ['Change', 'T', ['change','baseline','mean'], [1,0,0]]\n",
    "#cont2 = ['Change', 'T', ['change','baseline','mean'], [0,1,0]]\n",
    "#cont3 = ['Group', 'T', ['postmessage','baseline','mean'], [0,0,1]]\n",
    "\n",
    "\n",
    "contrast_list=[cont1]"
   ]
  },
  {
   "cell_type": "code",
   "execution_count": 20,
   "metadata": {},
   "outputs": [],
   "source": [
    "JSON_MODEL_FILE = os.path.join('/data00/projects/megameta/scripts/jupyter_megameta/second_level_models',\n",
    "                               'model_specifications',\n",
    "                               MODEL_SPEC_FILE)\n",
    "\n",
    "with open(JSON_MODEL_FILE) as fh:\n",
    "    model_def = json.load(fh)\n",
    "    \n",
    "MODEL_NAME = model_def['ModelName']\n",
    "\n",
    "mask_path='/data00/tools/spm8/apriori/brainmask_th25.nii'\n",
    "mask_name='th25'\n",
    "\n",
    "mask = nb.load(mask_path)\n",
    "\n",
    "output_dir = os.path.join(GROUP_DIR,'derivatives', 'nipype','model_2nd-level_{}'.format(MODEL_NAME),contrast_name,'change')        \n",
    "working_dir = os.path.join(GROUP_DIR, 'working','nipype','workingdir_model_2nd-level_{}'.format(MODEL_NAME),contrast_name,'change')   \n",
    "\n",
    "if not os.path.exists(output_dir):\n",
    "    os.makedirs(output_dir)\n",
    "    print(['creating output directory:',output_dir])\n",
    "if not os.path.exists(working_dir):\n",
    "    os.makedirs(working_dir)\n",
    "    print(['creating working directory',working_dir])"
   ]
  },
  {
   "cell_type": "markdown",
   "metadata": {},
   "source": [
    "* Eligible subjects list (`subjects_list`) is created from checking the `func` folders in BIDS project and finding matching NIFTI files for task.\n",
    "\n",
    "\n",
    "* You can edit subjects to be included in processing through:\n",
    "    1. making a list of subject ids to be excluded in `exclude_subjects` list\n",
    "        - these subjects will be removed from the list of eligible subjects\n",
    "    2. specifying a list of subject ids to be included in processing in `include_subjects` list\n",
    "        - the subjects in this list will replace the eligible subjects\n",
    "    "
   ]
  },
  {
   "cell_type": "code",
   "execution_count": 21,
   "metadata": {},
   "outputs": [],
   "source": [
    "exclude_subjects=[\n",
    "'sub-AS16', 'sub-AS17', 'sub-AS35', 'sub-AS42','sub-AS53','sub-AS58',\n",
    "'sub-P102','sub-P104','sub-P110','sub-P117','sub-P123','sub-P133','sub-P152',\n",
    "'sub-HA01', \n",
    "'sub-HA02',\n",
    "'sub-HA03',\n",
    "'sub-HA04',\n",
    "'sub-HA05',\n",
    "'sub-HA06',\n",
    "'sub-HA09',\n",
    "'sub-HA10',\n",
    "'sub-HA11',\n",
    "'sub-HA12',\n",
    "'sub-HA13',\n",
    "'sub-HA14',\n",
    "'sub-HA15',\n",
    "'sub-HA16',\n",
    "'sub-HA33',\n",
    "'sub-HA58',\n",
    "'sub-HA67',\n",
    "'sub-HA07',\n",
    "'sub-HA08',\n",
    "'sub-HA17',\n",
    "'sub-HA19',\n",
    "'sub-HA38',\n",
    "'sub-HA43',\n",
    "'sub-HA52',\n",
    "'sub-HA56',\n",
    "'sub-HA59',\n",
    "'sub-PA057',\n",
    "'sub-PA214',\n",
    "'sub-PA043',\n",
    "'sub-PA001',\n",
    "'sub-PA002',\n",
    "'sub-PA004',\n",
    "'sub-PA013',\n",
    "'sub-PA015',\n",
    "'sub-PA022',\n",
    "'sub-PA023',\n",
    "'sub-PA024',\n",
    "'sub-PA026',\n",
    "'sub-PA030',\n",
    "'sub-PA033',\n",
    "'sub-PA039',\n",
    "'sub-PA042',\n",
    "'sub-PA043',\n",
    "'sub-PA044',\n",
    "'sub-PA045',\n",
    "'sub-PA051',\n",
    "'sub-PA053',\n",
    "'sub-PA059',\n",
    "'sub-PA062',\n",
    "'sub-PA064',\n",
    "'sub-PA066',\n",
    "'sub-PA069',\n",
    "'sub-PA070',\n",
    "'sub-PA072',\n",
    "'sub-PA073',\n",
    "'sub-PA075',\n",
    "'sub-PA076',\n",
    "'sub-PA078',\n",
    "'sub-PA079',\n",
    "'sub-PA081',\n",
    "'sub-PA083',\n",
    "'sub-PA087',\n",
    "'sub-PA091',\n",
    "'sub-PA092',\n",
    "'sub-PA096',\n",
    "'sub-PA097',\n",
    "'sub-PA099',\n",
    "'sub-PA104',\n",
    "'sub-PA105',\n",
    "'sub-PA106',\n",
    "'sub-PA110',\n",
    "'sub-PA115',\n",
    "'sub-PA117',\n",
    "'sub-PA118',\n",
    "'sub-PA119',\n",
    "'sub-PA121',\n",
    "'sub-PA123',\n",
    "'sub-PA124',\n",
    "'sub-PA127',\n",
    "'sub-PA128',\n",
    "'sub-PA129',\n",
    "'sub-PA130',\n",
    "'sub-PA131',\n",
    "'sub-PA134',\n",
    "'sub-PA138',\n",
    "'sub-PA139',\n",
    "'sub-PA140',\n",
    "'sub-PA151',\n",
    "'sub-PA152',\n",
    "'sub-PA155',\n",
    "'sub-PA161',\n",
    "'sub-PA168',\n",
    "'sub-PA171',\n",
    "'sub-PA178',\n",
    "'sub-PA184',\n",
    "'sub-PA186',\n",
    "'sub-PA187',\n",
    "'sub-PA190',\n",
    "'sub-PA193',\n",
    "'sub-PA195',\n",
    "'sub-PA198',\n",
    "'sub-PA199',\n",
    "'sub-PA203',\n",
    "'sub-PA204',\n",
    "'sub-PA205',\n",
    "'sub-PA211',\n",
    "'sub-PA215',\n",
    "'sub-PA216',\n",
    "'sub-PA217',\n",
    "'sub-PA218',\n",
    "'sub-BA224',\n",
    "'sub-BA228',\n",
    "'sub-BA233',\n",
    "'sub-BA239',\n",
    "'sub-BA267',\n",
    "'sub-BA272',\n",
    "'sub-BA276',\n",
    "'sub-WA110',\n",
    "'sub-WA204'] "
   ]
  },
  {
   "cell_type": "code",
   "execution_count": 22,
   "metadata": {},
   "outputs": [],
   "source": [
    "GROUP_DIR = '/data00/projects/megameta/group_models/'\n"
   ]
  },
  {
   "cell_type": "markdown",
   "metadata": {},
   "source": [
    "-------------------------\n",
    "\n",
    "### Step 2: RUN FIRST LEVEL SETUP NOTEBOOK"
   ]
  },
  {
   "cell_type": "code",
   "execution_count": 23,
   "metadata": {},
   "outputs": [],
   "source": [
    "%run \"/data00/projects/megameta/scripts/jupyter_megameta/cnlab/GLM/second_level_mreg_Jeesung.ipynb\"    "
   ]
  },
  {
   "cell_type": "markdown",
   "metadata": {},
   "source": [
    "-------------------------\n",
    "\n",
    "### Step 3: CHECK WORKFLOW AND DIRECTORIES"
   ]
  },
  {
   "cell_type": "code",
   "execution_count": 24,
   "metadata": {},
   "outputs": [
    {
     "name": "stdout",
     "output_type": "stream",
     "text": [
      "Working directory for pipeline is:\n",
      "\t /data00/projects/megameta/group_models/working/nipype/workingdir_model_2nd-level_MESSAGE_mreg_behav_7studies/puremessage/change\n",
      "\n",
      "\n",
      "Final model directory for pipeline is:\n",
      "\t /data00/projects/megameta/group_models/derivatives/nipype/model_2nd-level_MESSAGE_mreg_behav_7studies/puremessage/change\n"
     ]
    }
   ],
   "source": [
    "print('Working directory for pipeline is:\\n\\t',working_dir)\n",
    "\n",
    "print('\\n\\nFinal model directory for pipeline is:\\n\\t',output_dir)\n",
    "\n",
    "#print('\\n\\nThese subjects will be processed:\\n\\t', ' '.join(subject_list))"
   ]
  },
  {
   "cell_type": "markdown",
   "metadata": {},
   "source": [
    "-------------------------\n",
    "\n",
    "### Step 4: RUN PIPELINE"
   ]
  },
  {
   "cell_type": "code",
   "execution_count": 27,
   "metadata": {},
   "outputs": [
    {
     "name": "stdout",
     "output_type": "stream",
     "text": [
      "200706-16:17:41,972 nipype.workflow INFO:\n",
      "\t Workflow l2analysis settings: ['check', 'execution', 'logging', 'monitoring']\n",
      "200706-16:17:42,19 nipype.workflow INFO:\n",
      "\t Running serially.\n",
      "200706-16:17:42,21 nipype.workflow INFO:\n",
      "\t [Node] Setting-up \"l2analysis.makecontrasts\" in \"/fmriNASTest/data00/projects/megameta/group_models/working/nipype/workingdir_model_2nd-level_MESSAGE_mreg_behav_7studies/puremessage/change/l2analysis/makecontrasts\".\n",
      "200706-16:17:42,301 nipype.workflow INFO:\n",
      "\t [Node] Running \"makecontrasts\" (\"nipype.interfaces.utility.wrappers.Function\")\n",
      "excluded subject list:  ['sub-AS16', 'sub-AS17', 'sub-AS35', 'sub-AS42', 'sub-AS53', 'sub-AS58', 'sub-P102', 'sub-P104', 'sub-P110', 'sub-P117', 'sub-P123', 'sub-P133', 'sub-P152', 'sub-HA01', 'sub-HA02', 'sub-HA03', 'sub-HA04', 'sub-HA05', 'sub-HA06', 'sub-HA09', 'sub-HA10', 'sub-HA11', 'sub-HA12', 'sub-HA13', 'sub-HA14', 'sub-HA15', 'sub-HA16', 'sub-HA33', 'sub-HA58', 'sub-HA67', 'sub-HA07', 'sub-HA08', 'sub-HA17', 'sub-HA19', 'sub-HA38', 'sub-HA43', 'sub-HA52', 'sub-HA56', 'sub-HA59', 'sub-PA057', 'sub-PA214', 'sub-PA043', 'sub-PA001', 'sub-PA002', 'sub-PA004', 'sub-PA013', 'sub-PA015', 'sub-PA022', 'sub-PA023', 'sub-PA024', 'sub-PA026', 'sub-PA030', 'sub-PA033', 'sub-PA039', 'sub-PA042', 'sub-PA043', 'sub-PA044', 'sub-PA045', 'sub-PA051', 'sub-PA053', 'sub-PA059', 'sub-PA062', 'sub-PA064', 'sub-PA066', 'sub-PA069', 'sub-PA070', 'sub-PA072', 'sub-PA073', 'sub-PA075', 'sub-PA076', 'sub-PA078', 'sub-PA079', 'sub-PA081', 'sub-PA083', 'sub-PA087', 'sub-PA091', 'sub-PA092', 'sub-PA096', 'sub-PA097', 'sub-PA099', 'sub-PA104', 'sub-PA105', 'sub-PA106', 'sub-PA110', 'sub-PA115', 'sub-PA117', 'sub-PA118', 'sub-PA119', 'sub-PA121', 'sub-PA123', 'sub-PA124', 'sub-PA127', 'sub-PA128', 'sub-PA129', 'sub-PA130', 'sub-PA131', 'sub-PA134', 'sub-PA138', 'sub-PA139', 'sub-PA140', 'sub-PA151', 'sub-PA152', 'sub-PA155', 'sub-PA161', 'sub-PA168', 'sub-PA171', 'sub-PA178', 'sub-PA184', 'sub-PA186', 'sub-PA187', 'sub-PA190', 'sub-PA193', 'sub-PA195', 'sub-PA198', 'sub-PA199', 'sub-PA203', 'sub-PA204', 'sub-PA205', 'sub-PA211', 'sub-PA215', 'sub-PA216', 'sub-PA217', 'sub-PA218', 'sub-BA224', 'sub-BA228', 'sub-BA233', 'sub-BA239', 'sub-BA267', 'sub-BA272', 'sub-BA276', 'sub-WA110', 'sub-WA204']  (N= 132 )\n",
      "included subject list:  ['sub-AS02', 'sub-AS01', 'sub-AS03', 'sub-AS04', 'sub-AS05', 'sub-AS06', 'sub-AS07', 'sub-AS08', 'sub-AS09', 'sub-AS10', 'sub-AS11', 'sub-AS13', 'sub-AS15', 'sub-AS14', 'sub-AS12', 'sub-AS18', 'sub-AS19', 'sub-AS20', 'sub-AS21', 'sub-AS22', 'sub-AS23', 'sub-AS24', 'sub-AS25', 'sub-AS26', 'sub-AS27', 'sub-AS28', 'sub-AS30', 'sub-AS29', 'sub-AS33', 'sub-AS31', 'sub-AS32', 'sub-AS34', 'sub-AS36', 'sub-AS37', 'sub-AS38', 'sub-AS39', 'sub-AS40', 'sub-AS41', 'sub-AS46', 'sub-AS51', 'sub-AS47', 'sub-AS48', 'sub-AS50', 'sub-AS49', 'sub-AS52', 'sub-AS60', 'sub-AS59', 'sub-AS56', 'sub-AS57', 'sub-AS55', 'sub-AS54']  (N= 51 )\n",
      "Project: alcohol, Sampling 51 of 51 participants with a model\n",
      "excluded subject list:  ['sub-AS16', 'sub-AS17', 'sub-AS35', 'sub-AS42', 'sub-AS53', 'sub-AS58', 'sub-P102', 'sub-P104', 'sub-P110', 'sub-P117', 'sub-P123', 'sub-P133', 'sub-P152', 'sub-HA01', 'sub-HA02', 'sub-HA03', 'sub-HA04', 'sub-HA05', 'sub-HA06', 'sub-HA09', 'sub-HA10', 'sub-HA11', 'sub-HA12', 'sub-HA13', 'sub-HA14', 'sub-HA15', 'sub-HA16', 'sub-HA33', 'sub-HA58', 'sub-HA67', 'sub-HA07', 'sub-HA08', 'sub-HA17', 'sub-HA19', 'sub-HA38', 'sub-HA43', 'sub-HA52', 'sub-HA56', 'sub-HA59', 'sub-PA057', 'sub-PA214', 'sub-PA043', 'sub-PA001', 'sub-PA002', 'sub-PA004', 'sub-PA013', 'sub-PA015', 'sub-PA022', 'sub-PA023', 'sub-PA024', 'sub-PA026', 'sub-PA030', 'sub-PA033', 'sub-PA039', 'sub-PA042', 'sub-PA043', 'sub-PA044', 'sub-PA045', 'sub-PA051', 'sub-PA053', 'sub-PA059', 'sub-PA062', 'sub-PA064', 'sub-PA066', 'sub-PA069', 'sub-PA070', 'sub-PA072', 'sub-PA073', 'sub-PA075', 'sub-PA076', 'sub-PA078', 'sub-PA079', 'sub-PA081', 'sub-PA083', 'sub-PA087', 'sub-PA091', 'sub-PA092', 'sub-PA096', 'sub-PA097', 'sub-PA099', 'sub-PA104', 'sub-PA105', 'sub-PA106', 'sub-PA110', 'sub-PA115', 'sub-PA117', 'sub-PA118', 'sub-PA119', 'sub-PA121', 'sub-PA123', 'sub-PA124', 'sub-PA127', 'sub-PA128', 'sub-PA129', 'sub-PA130', 'sub-PA131', 'sub-PA134', 'sub-PA138', 'sub-PA139', 'sub-PA140', 'sub-PA151', 'sub-PA152', 'sub-PA155', 'sub-PA161', 'sub-PA168', 'sub-PA171', 'sub-PA178', 'sub-PA184', 'sub-PA186', 'sub-PA187', 'sub-PA190', 'sub-PA193', 'sub-PA195', 'sub-PA198', 'sub-PA199', 'sub-PA203', 'sub-PA204', 'sub-PA205', 'sub-PA211', 'sub-PA215', 'sub-PA216', 'sub-PA217', 'sub-PA218', 'sub-BA224', 'sub-BA228', 'sub-BA233', 'sub-BA239', 'sub-BA267', 'sub-BA272', 'sub-BA276', 'sub-WA110', 'sub-WA204']  (N= 132 )\n",
      "included subject list:  ['sub-P103', 'sub-P105', 'sub-P106', 'sub-P107', 'sub-P108', 'sub-P111', 'sub-P112', 'sub-P113', 'sub-P114', 'sub-P115', 'sub-P116', 'sub-P118', 'sub-P119', 'sub-P120', 'sub-P121', 'sub-P122', 'sub-P125', 'sub-P124', 'sub-P126', 'sub-P127', 'sub-P128', 'sub-P129', 'sub-P130', 'sub-P132', 'sub-P131', 'sub-P134', 'sub-P135', 'sub-P137', 'sub-P138', 'sub-P139', 'sub-P141', 'sub-P142', 'sub-P155', 'sub-P146', 'sub-P143', 'sub-P145', 'sub-P153', 'sub-P147', 'sub-P150', 'sub-P154', 'sub-P151', 'sub-P101', 'sub-P100']  (N= 43 )\n",
      "Project: project1, Sampling 43 of 43 participants with a model\n",
      "excluded subject list:  ['sub-AS16', 'sub-AS17', 'sub-AS35', 'sub-AS42', 'sub-AS53', 'sub-AS58', 'sub-P102', 'sub-P104', 'sub-P110', 'sub-P117', 'sub-P123', 'sub-P133', 'sub-P152', 'sub-HA01', 'sub-HA02', 'sub-HA03', 'sub-HA04', 'sub-HA05', 'sub-HA06', 'sub-HA09', 'sub-HA10', 'sub-HA11', 'sub-HA12', 'sub-HA13', 'sub-HA14', 'sub-HA15', 'sub-HA16', 'sub-HA33', 'sub-HA58', 'sub-HA67', 'sub-HA07', 'sub-HA08', 'sub-HA17', 'sub-HA19', 'sub-HA38', 'sub-HA43', 'sub-HA52', 'sub-HA56', 'sub-HA59', 'sub-PA057', 'sub-PA214', 'sub-PA043', 'sub-PA001', 'sub-PA002', 'sub-PA004', 'sub-PA013', 'sub-PA015', 'sub-PA022', 'sub-PA023', 'sub-PA024', 'sub-PA026', 'sub-PA030', 'sub-PA033', 'sub-PA039', 'sub-PA042', 'sub-PA043', 'sub-PA044', 'sub-PA045', 'sub-PA051', 'sub-PA053', 'sub-PA059', 'sub-PA062', 'sub-PA064', 'sub-PA066', 'sub-PA069', 'sub-PA070', 'sub-PA072', 'sub-PA073', 'sub-PA075', 'sub-PA076', 'sub-PA078', 'sub-PA079', 'sub-PA081', 'sub-PA083', 'sub-PA087', 'sub-PA091', 'sub-PA092', 'sub-PA096', 'sub-PA097', 'sub-PA099', 'sub-PA104', 'sub-PA105', 'sub-PA106', 'sub-PA110', 'sub-PA115', 'sub-PA117', 'sub-PA118', 'sub-PA119', 'sub-PA121', 'sub-PA123', 'sub-PA124', 'sub-PA127', 'sub-PA128', 'sub-PA129', 'sub-PA130', 'sub-PA131', 'sub-PA134', 'sub-PA138', 'sub-PA139', 'sub-PA140', 'sub-PA151', 'sub-PA152', 'sub-PA155', 'sub-PA161', 'sub-PA168', 'sub-PA171', 'sub-PA178', 'sub-PA184', 'sub-PA186', 'sub-PA187', 'sub-PA190', 'sub-PA193', 'sub-PA195', 'sub-PA198', 'sub-PA199', 'sub-PA203', 'sub-PA204', 'sub-PA205', 'sub-PA211', 'sub-PA215', 'sub-PA216', 'sub-PA217', 'sub-PA218', 'sub-BA224', 'sub-BA228', 'sub-BA233', 'sub-BA239', 'sub-BA267', 'sub-BA272', 'sub-BA276', 'sub-WA110', 'sub-WA204']  (N= 132 )\n",
      "included subject list:  ['sub-SMK02', 'sub-SMK03', 'sub-SMK04', 'sub-SMK05', 'sub-SMK06', 'sub-SMK07', 'sub-SMK08', 'sub-SMK10', 'sub-SMK11', 'sub-SMK12', 'sub-SMK13', 'sub-SMK14', 'sub-SMK15', 'sub-SMK16', 'sub-SMK17', 'sub-SMK18', 'sub-SMK19', 'sub-SMK20', 'sub-SMK21', 'sub-SMK22', 'sub-SMK23', 'sub-SMK24', 'sub-SMK25', 'sub-SMK26', 'sub-SMK27', 'sub-SMK29', 'sub-SMK30', 'sub-SMK31', 'sub-SMK32', 'sub-SMK33']  (N= 30 )\n",
      "Project: smoking_UCLA, Sampling 30 of 30 participants with a model\n",
      "excluded subject list:  ['sub-AS16', 'sub-AS17', 'sub-AS35', 'sub-AS42', 'sub-AS53', 'sub-AS58', 'sub-P102', 'sub-P104', 'sub-P110', 'sub-P117', 'sub-P123', 'sub-P133', 'sub-P152', 'sub-HA01', 'sub-HA02', 'sub-HA03', 'sub-HA04', 'sub-HA05', 'sub-HA06', 'sub-HA09', 'sub-HA10', 'sub-HA11', 'sub-HA12', 'sub-HA13', 'sub-HA14', 'sub-HA15', 'sub-HA16', 'sub-HA33', 'sub-HA58', 'sub-HA67', 'sub-HA07', 'sub-HA08', 'sub-HA17', 'sub-HA19', 'sub-HA38', 'sub-HA43', 'sub-HA52', 'sub-HA56', 'sub-HA59', 'sub-PA057', 'sub-PA214', 'sub-PA043', 'sub-PA001', 'sub-PA002', 'sub-PA004', 'sub-PA013', 'sub-PA015', 'sub-PA022', 'sub-PA023', 'sub-PA024', 'sub-PA026', 'sub-PA030', 'sub-PA033', 'sub-PA039', 'sub-PA042', 'sub-PA043', 'sub-PA044', 'sub-PA045', 'sub-PA051', 'sub-PA053', 'sub-PA059', 'sub-PA062', 'sub-PA064', 'sub-PA066', 'sub-PA069', 'sub-PA070', 'sub-PA072', 'sub-PA073', 'sub-PA075', 'sub-PA076', 'sub-PA078', 'sub-PA079', 'sub-PA081', 'sub-PA083', 'sub-PA087', 'sub-PA091', 'sub-PA092', 'sub-PA096', 'sub-PA097', 'sub-PA099', 'sub-PA104', 'sub-PA105', 'sub-PA106', 'sub-PA110', 'sub-PA115', 'sub-PA117', 'sub-PA118', 'sub-PA119', 'sub-PA121', 'sub-PA123', 'sub-PA124', 'sub-PA127', 'sub-PA128', 'sub-PA129', 'sub-PA130', 'sub-PA131', 'sub-PA134', 'sub-PA138', 'sub-PA139', 'sub-PA140', 'sub-PA151', 'sub-PA152', 'sub-PA155', 'sub-PA161', 'sub-PA168', 'sub-PA171', 'sub-PA178', 'sub-PA184', 'sub-PA186', 'sub-PA187', 'sub-PA190', 'sub-PA193', 'sub-PA195', 'sub-PA198', 'sub-PA199', 'sub-PA203', 'sub-PA204', 'sub-PA205', 'sub-PA211', 'sub-PA215', 'sub-PA216', 'sub-PA217', 'sub-PA218', 'sub-BA224', 'sub-BA228', 'sub-BA233', 'sub-BA239', 'sub-BA267', 'sub-BA272', 'sub-BA276', 'sub-WA110', 'sub-WA204']  (N= 132 )\n",
      "included subject list:  ['sub-HA18', 'sub-HA22', 'sub-HA20', 'sub-HA21', 'sub-HA36', 'sub-HA37', 'sub-HA39', 'sub-HA35', 'sub-HA25', 'sub-HA34', 'sub-HA23', 'sub-HA27', 'sub-HA24', 'sub-HA30', 'sub-HA31', 'sub-HA29', 'sub-HA26', 'sub-HA28', 'sub-HA32', 'sub-HA40', 'sub-HA41', 'sub-HA42', 'sub-HA46', 'sub-HA44', 'sub-HA45', 'sub-HA51', 'sub-HA53', 'sub-HA50', 'sub-HA49', 'sub-HA48', 'sub-HA47', 'sub-HA54', 'sub-HA55']  (N= 33 )\n",
      "Project: PA1, Sampling 33 of 33 participants with a model\n",
      "excluded subject list:  ['sub-AS16', 'sub-AS17', 'sub-AS35', 'sub-AS42', 'sub-AS53', 'sub-AS58', 'sub-P102', 'sub-P104', 'sub-P110', 'sub-P117', 'sub-P123', 'sub-P133', 'sub-P152', 'sub-HA01', 'sub-HA02', 'sub-HA03', 'sub-HA04', 'sub-HA05', 'sub-HA06', 'sub-HA09', 'sub-HA10', 'sub-HA11', 'sub-HA12', 'sub-HA13', 'sub-HA14', 'sub-HA15', 'sub-HA16', 'sub-HA33', 'sub-HA58', 'sub-HA67', 'sub-HA07', 'sub-HA08', 'sub-HA17', 'sub-HA19', 'sub-HA38', 'sub-HA43', 'sub-HA52', 'sub-HA56', 'sub-HA59', 'sub-PA057', 'sub-PA214', 'sub-PA043', 'sub-PA001', 'sub-PA002', 'sub-PA004', 'sub-PA013', 'sub-PA015', 'sub-PA022', 'sub-PA023', 'sub-PA024', 'sub-PA026', 'sub-PA030', 'sub-PA033', 'sub-PA039', 'sub-PA042', 'sub-PA043', 'sub-PA044', 'sub-PA045', 'sub-PA051', 'sub-PA053', 'sub-PA059', 'sub-PA062', 'sub-PA064', 'sub-PA066', 'sub-PA069', 'sub-PA070', 'sub-PA072', 'sub-PA073', 'sub-PA075', 'sub-PA076', 'sub-PA078', 'sub-PA079', 'sub-PA081', 'sub-PA083', 'sub-PA087', 'sub-PA091', 'sub-PA092', 'sub-PA096', 'sub-PA097', 'sub-PA099', 'sub-PA104', 'sub-PA105', 'sub-PA106', 'sub-PA110', 'sub-PA115', 'sub-PA117', 'sub-PA118', 'sub-PA119', 'sub-PA121', 'sub-PA123', 'sub-PA124', 'sub-PA127', 'sub-PA128', 'sub-PA129', 'sub-PA130', 'sub-PA131', 'sub-PA134', 'sub-PA138', 'sub-PA139', 'sub-PA140', 'sub-PA151', 'sub-PA152', 'sub-PA155', 'sub-PA161', 'sub-PA168', 'sub-PA171', 'sub-PA178', 'sub-PA184', 'sub-PA186', 'sub-PA187', 'sub-PA190', 'sub-PA193', 'sub-PA195', 'sub-PA198', 'sub-PA199', 'sub-PA203', 'sub-PA204', 'sub-PA205', 'sub-PA211', 'sub-PA215', 'sub-PA216', 'sub-PA217', 'sub-PA218', 'sub-BA224', 'sub-BA228', 'sub-BA233', 'sub-BA239', 'sub-BA267', 'sub-BA272', 'sub-BA276', 'sub-WA110', 'sub-WA204']  (N= 132 )\n",
      "included subject list:  ['sub-PA009', 'sub-PA142', 'sub-PA046', 'sub-PA047', 'sub-PA052', 'sub-PA060', 'sub-PA071', 'sub-PA088', 'sub-PA156', 'sub-PA180', 'sub-PA207', 'sub-PA147', 'sub-PA206', 'sub-PA219', 'sub-PA200', 'sub-PA210', 'sub-PA212', 'sub-PA220', 'sub-PA201', 'sub-PA003', 'sub-PA005', 'sub-PA006', 'sub-PA007', 'sub-PA008', 'sub-PA010', 'sub-PA011', 'sub-PA012', 'sub-PA014', 'sub-PA016', 'sub-PA017', 'sub-PA018', 'sub-PA019', 'sub-PA021', 'sub-PA020', 'sub-PA025', 'sub-PA027', 'sub-PA028', 'sub-PA029', 'sub-PA031', 'sub-PA032', 'sub-PA034', 'sub-PA035', 'sub-PA036', 'sub-PA037', 'sub-PA038', 'sub-PA040', 'sub-PA041', 'sub-PA049', 'sub-PA048', 'sub-PA050', 'sub-PA054', 'sub-PA055', 'sub-PA056', 'sub-PA058', 'sub-PA061', 'sub-PA063', 'sub-PA065', 'sub-PA067', 'sub-PA068', 'sub-PA074', 'sub-PA077', 'sub-PA080', 'sub-PA082', 'sub-PA084', 'sub-PA085', 'sub-PA086', 'sub-PA089', 'sub-PA090', 'sub-PA093', 'sub-PA094', 'sub-PA095', 'sub-PA098', 'sub-PA100', 'sub-PA101', 'sub-PA102', 'sub-PA103', 'sub-PA107', 'sub-PA108', 'sub-PA109', 'sub-PA111', 'sub-PA112', 'sub-PA113', 'sub-PA114', 'sub-PA116', 'sub-PA120', 'sub-PA122', 'sub-PA125', 'sub-PA126', 'sub-PA132', 'sub-PA133', 'sub-PA135', 'sub-PA136', 'sub-PA137', 'sub-PA141', 'sub-PA143', 'sub-PA144', 'sub-PA145', 'sub-PA146', 'sub-PA148', 'sub-PA149', 'sub-PA150', 'sub-PA153', 'sub-PA154', 'sub-PA157', 'sub-PA158', 'sub-PA159', 'sub-PA160', 'sub-PA162', 'sub-PA163', 'sub-PA164', 'sub-PA165', 'sub-PA166', 'sub-PA167', 'sub-PA169', 'sub-PA170', 'sub-PA172', 'sub-PA173', 'sub-PA174', 'sub-PA175', 'sub-PA176', 'sub-PA177', 'sub-PA181', 'sub-PA182', 'sub-PA179', 'sub-PA183', 'sub-PA185', 'sub-PA188', 'sub-PA189', 'sub-PA192', 'sub-PA191', 'sub-PA194', 'sub-PA196', 'sub-PA197', 'sub-PA202', 'sub-PA208', 'sub-PA209']  (N= 136 )\n",
      "Project: PA2, Sampling 136 of 136 participants with a model\n",
      "excluded subject list:  ['sub-AS16', 'sub-AS17', 'sub-AS35', 'sub-AS42', 'sub-AS53', 'sub-AS58', 'sub-P102', 'sub-P104', 'sub-P110', 'sub-P117', 'sub-P123', 'sub-P133', 'sub-P152', 'sub-HA01', 'sub-HA02', 'sub-HA03', 'sub-HA04', 'sub-HA05', 'sub-HA06', 'sub-HA09', 'sub-HA10', 'sub-HA11', 'sub-HA12', 'sub-HA13', 'sub-HA14', 'sub-HA15', 'sub-HA16', 'sub-HA33', 'sub-HA58', 'sub-HA67', 'sub-HA07', 'sub-HA08', 'sub-HA17', 'sub-HA19', 'sub-HA38', 'sub-HA43', 'sub-HA52', 'sub-HA56', 'sub-HA59', 'sub-PA057', 'sub-PA214', 'sub-PA043', 'sub-PA001', 'sub-PA002', 'sub-PA004', 'sub-PA013', 'sub-PA015', 'sub-PA022', 'sub-PA023', 'sub-PA024', 'sub-PA026', 'sub-PA030', 'sub-PA033', 'sub-PA039', 'sub-PA042', 'sub-PA043', 'sub-PA044', 'sub-PA045', 'sub-PA051', 'sub-PA053', 'sub-PA059', 'sub-PA062', 'sub-PA064', 'sub-PA066', 'sub-PA069', 'sub-PA070', 'sub-PA072', 'sub-PA073', 'sub-PA075', 'sub-PA076', 'sub-PA078', 'sub-PA079', 'sub-PA081', 'sub-PA083', 'sub-PA087', 'sub-PA091', 'sub-PA092', 'sub-PA096', 'sub-PA097', 'sub-PA099', 'sub-PA104', 'sub-PA105', 'sub-PA106', 'sub-PA110', 'sub-PA115', 'sub-PA117', 'sub-PA118', 'sub-PA119', 'sub-PA121', 'sub-PA123', 'sub-PA124', 'sub-PA127', 'sub-PA128', 'sub-PA129', 'sub-PA130', 'sub-PA131', 'sub-PA134', 'sub-PA138', 'sub-PA139', 'sub-PA140', 'sub-PA151', 'sub-PA152', 'sub-PA155', 'sub-PA161', 'sub-PA168', 'sub-PA171', 'sub-PA178', 'sub-PA184', 'sub-PA186', 'sub-PA187', 'sub-PA190', 'sub-PA193', 'sub-PA195', 'sub-PA198', 'sub-PA199', 'sub-PA203', 'sub-PA204', 'sub-PA205', 'sub-PA211', 'sub-PA215', 'sub-PA216', 'sub-PA217', 'sub-PA218', 'sub-BA224', 'sub-BA228', 'sub-BA233', 'sub-BA239', 'sub-BA267', 'sub-BA272', 'sub-BA276', 'sub-WA110', 'sub-WA204']  (N= 132 )\n",
      "included subject list:  ['sub-WA104', 'sub-WA101', 'sub-WA103', 'sub-WA102', 'sub-WA111', 'sub-WA113', 'sub-WA108', 'sub-WA107', 'sub-WA106', 'sub-WA126', 'sub-WA124', 'sub-WA123', 'sub-WA122', 'sub-WA118', 'sub-WA117', 'sub-WA115', 'sub-WA127', 'sub-WA221', 'sub-WA219', 'sub-WA220', 'sub-WA218', 'sub-WA202', 'sub-WA206', 'sub-WA205', 'sub-WA203', 'sub-WA201', 'sub-WA215', 'sub-WA216', 'sub-WA214', 'sub-WA212', 'sub-WA210', 'sub-WA209', 'sub-WA207']  (N= 33 )\n",
      "Project: WA, Sampling 33 of 33 participants with a model\n",
      "excluded subject list:  ['sub-AS16', 'sub-AS17', 'sub-AS35', 'sub-AS42', 'sub-AS53', 'sub-AS58', 'sub-P102', 'sub-P104', 'sub-P110', 'sub-P117', 'sub-P123', 'sub-P133', 'sub-P152', 'sub-HA01', 'sub-HA02', 'sub-HA03', 'sub-HA04', 'sub-HA05', 'sub-HA06', 'sub-HA09', 'sub-HA10', 'sub-HA11', 'sub-HA12', 'sub-HA13', 'sub-HA14', 'sub-HA15', 'sub-HA16', 'sub-HA33', 'sub-HA58', 'sub-HA67', 'sub-HA07', 'sub-HA08', 'sub-HA17', 'sub-HA19', 'sub-HA38', 'sub-HA43', 'sub-HA52', 'sub-HA56', 'sub-HA59', 'sub-PA057', 'sub-PA214', 'sub-PA043', 'sub-PA001', 'sub-PA002', 'sub-PA004', 'sub-PA013', 'sub-PA015', 'sub-PA022', 'sub-PA023', 'sub-PA024', 'sub-PA026', 'sub-PA030', 'sub-PA033', 'sub-PA039', 'sub-PA042', 'sub-PA043', 'sub-PA044', 'sub-PA045', 'sub-PA051', 'sub-PA053', 'sub-PA059', 'sub-PA062', 'sub-PA064', 'sub-PA066', 'sub-PA069', 'sub-PA070', 'sub-PA072', 'sub-PA073', 'sub-PA075', 'sub-PA076', 'sub-PA078', 'sub-PA079', 'sub-PA081', 'sub-PA083', 'sub-PA087', 'sub-PA091', 'sub-PA092', 'sub-PA096', 'sub-PA097', 'sub-PA099', 'sub-PA104', 'sub-PA105', 'sub-PA106', 'sub-PA110', 'sub-PA115', 'sub-PA117', 'sub-PA118', 'sub-PA119', 'sub-PA121', 'sub-PA123', 'sub-PA124', 'sub-PA127', 'sub-PA128', 'sub-PA129', 'sub-PA130', 'sub-PA131', 'sub-PA134', 'sub-PA138', 'sub-PA139', 'sub-PA140', 'sub-PA151', 'sub-PA152', 'sub-PA155', 'sub-PA161', 'sub-PA168', 'sub-PA171', 'sub-PA178', 'sub-PA184', 'sub-PA186', 'sub-PA187', 'sub-PA190', 'sub-PA193', 'sub-PA195', 'sub-PA198', 'sub-PA199', 'sub-PA203', 'sub-PA204', 'sub-PA205', 'sub-PA211', 'sub-PA215', 'sub-PA216', 'sub-PA217', 'sub-PA218', 'sub-BA224', 'sub-BA228', 'sub-BA233', 'sub-BA239', 'sub-BA267', 'sub-BA272', 'sub-BA276', 'sub-WA110', 'sub-WA204']  (N= 132 )\n",
      "included subject list:  ['sub-BA275', 'sub-BA269', 'sub-BA265', 'sub-BA262', 'sub-BA257', 'sub-BA255', 'sub-BA253', 'sub-BA251', 'sub-BA244', 'sub-BA242', 'sub-BA240', 'sub-BA238', 'sub-BA237', 'sub-BA234', 'sub-BA229', 'sub-BA277', 'sub-BA273', 'sub-BA266', 'sub-BA263', 'sub-BA261', 'sub-BA252', 'sub-BA250', 'sub-BA247', 'sub-BA235']  (N= 24 )\n",
      "Project: BA, Sampling 24 of 24 participants with a model\n",
      "Participants with both first level models and behavior data N= 326\n",
      "200706-16:17:53,559 nipype.workflow INFO:\n",
      "\t [Node] Finished \"l2analysis.makecontrasts\".\n",
      "200706-16:17:53,560 nipype.workflow INFO:\n",
      "\t [Node] Setting-up \"l2analysis.mregdesign\" in \"/fmriNASTest/data00/projects/megameta/group_models/working/nipype/workingdir_model_2nd-level_MESSAGE_mreg_behav_7studies/puremessage/change/l2analysis/mregdesign\".\n",
      "200706-16:17:53,795 nipype.workflow INFO:\n",
      "\t [Node] Running \"mregdesign\" (\"nipype.interfaces.spm.model.MultipleRegressionDesign\")\n",
      "200706-16:19:42,841 nipype.workflow INFO:\n",
      "\t [Node] Finished \"l2analysis.mregdesign\".\n",
      "200706-16:19:42,844 nipype.workflow INFO:\n",
      "\t [Node] Setting-up \"l2analysis.level2estimate\" in \"/fmriNASTest/data00/projects/megameta/group_models/working/nipype/workingdir_model_2nd-level_MESSAGE_mreg_behav_7studies/puremessage/change/l2analysis/level2estimate\".\n",
      "200706-16:19:43,29 nipype.workflow INFO:\n",
      "\t [Node] Running \"level2estimate\" (\"nipype.interfaces.spm.model.EstimateModel\")\n",
      "200706-16:21:58,851 nipype.workflow INFO:\n",
      "\t [Node] Finished \"l2analysis.level2estimate\".\n",
      "200706-16:21:58,853 nipype.workflow INFO:\n",
      "\t [Node] Setting-up \"l2analysis.level2conestimate\" in \"/fmriNASTest/data00/projects/megameta/group_models/working/nipype/workingdir_model_2nd-level_MESSAGE_mreg_behav_7studies/puremessage/change/l2analysis/level2conestimate\".\n",
      "200706-16:21:59,66 nipype.workflow INFO:\n",
      "\t [Node] Running \"level2conestimate\" (\"nipype.interfaces.spm.model.EstimateContrast\")\n",
      "200706-16:22:22,226 nipype.workflow INFO:\n",
      "\t [Node] Finished \"l2analysis.level2conestimate\".\n",
      "200706-16:22:22,229 nipype.workflow INFO:\n",
      "\t [Node] Setting-up \"l2analysis.datasink\" in \"/fmriNASTest/data00/projects/megameta/group_models/working/nipype/workingdir_model_2nd-level_MESSAGE_mreg_behav_7studies/puremessage/change/l2analysis/datasink\".\n",
      "200706-16:22:22,362 nipype.workflow INFO:\n",
      "\t [Node] Running \"datasink\" (\"nipype.interfaces.io.DataSink\")\n",
      "200706-16:22:22,493 nipype.workflow INFO:\n",
      "\t [Node] Finished \"l2analysis.datasink\".\n"
     ]
    }
   ],
   "source": [
    "run_graph=l2analysis.run('Linear') # find participants who both have 1st level models & behavioral measures"
   ]
  },
  {
   "cell_type": "code",
   "execution_count": null,
   "metadata": {},
   "outputs": [],
   "source": []
  }
 ],
 "metadata": {
  "kernelspec": {
   "display_name": "Python 3",
   "language": "python",
   "name": "python3"
  },
  "language_info": {
   "codemirror_mode": {
    "name": "ipython",
    "version": 3
   },
   "file_extension": ".py",
   "mimetype": "text/x-python",
   "name": "python",
   "nbconvert_exporter": "python",
   "pygments_lexer": "ipython3",
   "version": "3.7.4"
  }
 },
 "nbformat": 4,
 "nbformat_minor": 2
}
